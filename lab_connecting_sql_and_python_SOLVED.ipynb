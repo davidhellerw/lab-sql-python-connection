{
 "cells": [
  {
   "cell_type": "code",
   "execution_count": null,
   "id": "eb614610",
   "metadata": {},
   "outputs": [],
   "source": [
    "import pandas as pd\n",
    "import numpy as np\n",
    "import pymysql\n",
    "from sqlalchemy import create_engine\n",
    "import getpass  # To get the password without showing the input\n",
    "password = getpass.getpass()\n",
    "\n",
    "# Note that when you use _SQLAlchemy_ and establish the connection, you do not even need to be logged in Sequel Pro or MySQL Workbench."
   ]
  },
  {
   "cell_type": "markdown",
   "id": "9ac6633a",
   "metadata": {},
   "source": [
    "Establish a connection between Python and the Sakila database."
   ]
  },
  {
   "cell_type": "code",
   "execution_count": null,
   "id": "ff01d57f",
   "metadata": {},
   "outputs": [],
   "source": [
    "bd = \"sakila\"\n",
    "connection_string = 'mysql+pymysql://root:' + password + '@localhost/'+bd\n",
    "engine = create_engine(connection_string)\n",
    "engine"
   ]
  },
  {
   "cell_type": "markdown",
   "id": "02782ec4",
   "metadata": {},
   "source": [
    "Write a Python function called rentals_month that retrieves rental data for a given month and year (passed as parameters) from the Sakila database as a Pandas DataFrame. The function should take in three parameters:\n",
    "\n",
    "engine: an object representing the database connection engine to be used to establish a connection to the Sakila database.\n",
    "month: an integer representing the month for which rental data is to be retrieved.\n",
    "year: an integer representing the year for which rental data is to be retrieved.\n",
    "The function should execute a SQL query to retrieve the rental data for the specified month and year from the rental table in the Sakila database, and return it as a pandas DataFrame."
   ]
  },
  {
   "cell_type": "code",
   "execution_count": null,
   "id": "ff365a93",
   "metadata": {},
   "outputs": [],
   "source": [
    "from sqlalchemy import text\n",
    "\n",
    "with engine.connect() as connection:\n",
    "    query = text('SELECT * FROM rental')\n",
    "    result = connection.execute(query)\n",
    "\n",
    "result"
   ]
  },
  {
   "cell_type": "code",
   "execution_count": null,
   "id": "fb784611",
   "metadata": {},
   "outputs": [],
   "source": [
    "def rentals_month(engine, month, year):\n",
    "    with engine.connect() as connection:\n",
    "        query = text(\n",
    "            f'''SELECT *\n",
    "            FROM rental\n",
    "            WHERE YEAR(rental_date) = {year} AND MONTH(rental_date) = {month};\n",
    "            ''')\n",
    "        \n",
    "        result = connection.execute(query)\n",
    "        df = pd.DataFrame(result.all())\n",
    "    return df"
   ]
  },
  {
   "cell_type": "code",
   "execution_count": null,
   "id": "fd776270",
   "metadata": {},
   "outputs": [],
   "source": [
    "rentals_5_2005 = rentals_month(engine, 5, 2005)\n",
    "rentals_5_2005"
   ]
  },
  {
   "cell_type": "markdown",
   "id": "e082588a",
   "metadata": {},
   "source": [
    "Develop a Python function called rental_count_month that takes the DataFrame provided by rentals_month as input along with the month and year and returns a new DataFrame containing the number of rentals made by each customer_id during the selected month and year.\n",
    "\n",
    "The function should also include the month and year as parameters and use them to name the new column according to the month and year, for example, if the input month is 05 and the year is 2005, the column name should be \"rentals_05_2005\".\n",
    "\n",
    "Hint: Consider making use of pandas groupby()"
   ]
  },
  {
   "cell_type": "code",
   "execution_count": null,
   "id": "3f2e1910",
   "metadata": {},
   "outputs": [],
   "source": [
    "rentals_5_2005['customer_id'].nunique()"
   ]
  },
  {
   "cell_type": "code",
   "execution_count": null,
   "id": "8888e378",
   "metadata": {},
   "outputs": [],
   "source": [
    "def rental_count_month(df, month, year):\n",
    "    result = df.groupby('customer_id')['rental_id'].count().reset_index()\n",
    "    result.rename(columns={'rental_id': f'rental_{month}_{year}'}, inplace=True)\n",
    "    return result"
   ]
  },
  {
   "cell_type": "code",
   "execution_count": null,
   "id": "1b7c9623",
   "metadata": {},
   "outputs": [],
   "source": [
    "rental_count_5_2005 = rental_count_month(rentals_5_2005, 5, 2005)"
   ]
  },
  {
   "cell_type": "code",
   "execution_count": null,
   "id": "ef282750",
   "metadata": {},
   "outputs": [],
   "source": [
    "rental_count_5_2005"
   ]
  },
  {
   "cell_type": "markdown",
   "id": "3bfae0c9",
   "metadata": {},
   "source": [
    "Create a Python function called compare_rentals that takes two DataFrames as input containing the number of rentals made by each customer in different months and years. The function should return a combined DataFrame with a new 'difference' column, which is the difference between the number of rentals in the two months."
   ]
  },
  {
   "cell_type": "code",
   "execution_count": null,
   "id": "12e0c0e9",
   "metadata": {},
   "outputs": [],
   "source": [
    "rentals_6_2005 = rentals_month(engine, 6, 2005)\n",
    "rentals_6_2005"
   ]
  },
  {
   "cell_type": "code",
   "execution_count": null,
   "id": "95dcc1a0",
   "metadata": {},
   "outputs": [],
   "source": [
    "rental_count_6_2005 = rental_count_month(rentals_6_2005, 6, 2005)\n",
    "rental_count_6_2005"
   ]
  },
  {
   "cell_type": "code",
   "execution_count": null,
   "id": "88b17912",
   "metadata": {},
   "outputs": [],
   "source": [
    "merged = pd.merge(rental_count_5_2005, rental_count_6_2005, on=['customer_id'])\n",
    "merged['difference'] = merged['rental_5_2005'] - merged['rental_6_2005']\n",
    "merged"
   ]
  },
  {
   "cell_type": "code",
   "execution_count": null,
   "id": "23010997",
   "metadata": {},
   "outputs": [],
   "source": [
    "def compare_rentals(df1, df2):\n",
    "    merged = pd.merge(df1, df2, on=['customer_id'])\n",
    "    merged['difference'] = merged.iloc[:, 1] - merged.iloc[:, 2]\n",
    "    return merged"
   ]
  },
  {
   "cell_type": "code",
   "execution_count": null,
   "id": "37f5569e",
   "metadata": {},
   "outputs": [],
   "source": [
    "merged_df = compare_rentals(rental_count_5_2005, rental_count_6_2005)\n",
    "merged_df"
   ]
  },
  {
   "cell_type": "code",
   "execution_count": null,
   "id": "528deb30",
   "metadata": {},
   "outputs": [],
   "source": []
  }
 ],
 "metadata": {
  "kernelspec": {
   "display_name": "Python 3 (ipykernel)",
   "language": "python",
   "name": "python3"
  },
  "language_info": {
   "codemirror_mode": {
    "name": "ipython",
    "version": 3
   },
   "file_extension": ".py",
   "mimetype": "text/x-python",
   "name": "python",
   "nbconvert_exporter": "python",
   "pygments_lexer": "ipython3",
   "version": "3.11.7"
  }
 },
 "nbformat": 4,
 "nbformat_minor": 5
}
